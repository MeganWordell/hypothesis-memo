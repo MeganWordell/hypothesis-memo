{
 "cells": [
  {
   "cell_type": "markdown",
   "id": "04ba72ba",
   "metadata": {},
   "source": [
    "# Do neighborhoods in Manhattan with the highest median income levels also have the higher prices for a 1-bedroom apartment?"
   ]
  },
  {
   "cell_type": "markdown",
   "id": "0684eea2",
   "metadata": {},
   "source": [
    "### Hypothesis testing // pitch memo using data from the Census and StreetEasy"
   ]
  },
  {
   "cell_type": "markdown",
   "id": "256376dd",
   "metadata": {},
   "source": [
    "Hypothesis: As median income rises in a particular Manhattan neighborhood, so does the price of the average one bedroom apartment"
   ]
  },
  {
   "cell_type": "markdown",
   "id": "c5f00c52",
   "metadata": {},
   "source": [
    "Null Hypothesis: there is no relation between median income level and price of rent for a one bedroom apartment in Manhattan"
   ]
  },
  {
   "cell_type": "code",
   "execution_count": 4,
   "id": "42019239",
   "metadata": {},
   "outputs": [],
   "source": [
    "import pandas as pd"
   ]
  },
  {
   "cell_type": "code",
   "execution_count": 12,
   "id": "e1b776c1",
   "metadata": {},
   "outputs": [
    {
     "data": {
      "text/html": [
       "<div>\n",
       "<style scoped>\n",
       "    .dataframe tbody tr th:only-of-type {\n",
       "        vertical-align: middle;\n",
       "    }\n",
       "\n",
       "    .dataframe tbody tr th {\n",
       "        vertical-align: top;\n",
       "    }\n",
       "\n",
       "    .dataframe thead th {\n",
       "        text-align: right;\n",
       "    }\n",
       "</style>\n",
       "<table border=\"1\" class=\"dataframe\">\n",
       "  <thead>\n",
       "    <tr style=\"text-align: right;\">\n",
       "      <th></th>\n",
       "      <th>Neighborhood</th>\n",
       "      <th>median_income_pc</th>\n",
       "      <th>Max_Rent</th>\n",
       "      <th>AVG_rent</th>\n",
       "      <th>Pct diff</th>\n",
       "      <th>Difference</th>\n",
       "      <th>Unnamed: 6</th>\n",
       "    </tr>\n",
       "  </thead>\n",
       "  <tbody>\n",
       "    <tr>\n",
       "      <th>0</th>\n",
       "      <td>Chelsea-Hudson Yards</td>\n",
       "      <td>116503</td>\n",
       "      <td>2913</td>\n",
       "      <td>4243.0</td>\n",
       "      <td>46%</td>\n",
       "      <td>-1330.0</td>\n",
       "      <td>Pct diff= Average rent is x percent higher tha...</td>\n",
       "    </tr>\n",
       "    <tr>\n",
       "      <th>1</th>\n",
       "      <td>Chinatown-Two Bridges</td>\n",
       "      <td>29120</td>\n",
       "      <td>728</td>\n",
       "      <td>2100.0</td>\n",
       "      <td>188%</td>\n",
       "      <td>-1372.0</td>\n",
       "      <td>NaN</td>\n",
       "    </tr>\n",
       "    <tr>\n",
       "      <th>2</th>\n",
       "      <td>East Harlem (North)</td>\n",
       "      <td>31000</td>\n",
       "      <td>775</td>\n",
       "      <td>1997.0</td>\n",
       "      <td>158%</td>\n",
       "      <td>-1222.0</td>\n",
       "      <td>NaN</td>\n",
       "    </tr>\n",
       "    <tr>\n",
       "      <th>3</th>\n",
       "      <td>East Harlem (South)</td>\n",
       "      <td>45701</td>\n",
       "      <td>1143</td>\n",
       "      <td>1997.0</td>\n",
       "      <td>75%</td>\n",
       "      <td>-854.0</td>\n",
       "      <td>NaN</td>\n",
       "    </tr>\n",
       "    <tr>\n",
       "      <th>4</th>\n",
       "      <td>East Midtown-Turtle Bay</td>\n",
       "      <td>146391</td>\n",
       "      <td>3660</td>\n",
       "      <td>3350.0</td>\n",
       "      <td>-8%</td>\n",
       "      <td>310.0</td>\n",
       "      <td>NaN</td>\n",
       "    </tr>\n",
       "  </tbody>\n",
       "</table>\n",
       "</div>"
      ],
      "text/plain": [
       "              Neighborhood  median_income_pc  Max_Rent  AVG_rent Pct diff  \\\n",
       "0     Chelsea-Hudson Yards            116503      2913    4243.0      46%   \n",
       "1    Chinatown-Two Bridges             29120       728    2100.0     188%   \n",
       "2      East Harlem (North)             31000       775    1997.0     158%   \n",
       "3      East Harlem (South)             45701      1143    1997.0      75%   \n",
       "4  East Midtown-Turtle Bay            146391      3660    3350.0      -8%   \n",
       "\n",
       "   Difference                                         Unnamed: 6  \n",
       "0     -1330.0  Pct diff= Average rent is x percent higher tha...  \n",
       "1     -1372.0                                                NaN  \n",
       "2     -1222.0                                                NaN  \n",
       "3      -854.0                                                NaN  \n",
       "4       310.0                                                NaN  "
      ]
     },
     "execution_count": 12,
     "metadata": {},
     "output_type": "execute_result"
    }
   ],
   "source": [
    "df = pd.read_csv(\"neighborhoods_rent.csv\")\n",
    "df.head(5)"
   ]
  },
  {
   "cell_type": "code",
   "execution_count": 8,
   "id": "f92e99c6",
   "metadata": {},
   "outputs": [],
   "source": [
    "%load_ext rpy2.ipython\n",
    "%load_ext autoreload\n",
    "%autoreload 2\n",
    "\n",
    "%matplotlib inline  \n",
    "from matplotlib import rcParams\n",
    "rcParams['figure.figsize'] = (8, 8)\n",
    "\n",
    "import warnings\n",
    "from rpy2.rinterface import RRuntimeWarning\n",
    "warnings.filterwarnings(\"ignore\") # Ignore all warnings\n",
    "# warnings.filterwarnings(\"ignore\", category=RRuntimeWarning) # Show some warnings\n",
    "\n",
    "import pandas as pd\n",
    "import numpy as np\n",
    "import matplotlib.pyplot as plt\n",
    "from IPython.display import display, HTML"
   ]
  },
  {
   "cell_type": "code",
   "execution_count": 9,
   "id": "37b39dc0",
   "metadata": {},
   "outputs": [
    {
     "name": "stderr",
     "output_type": "stream",
     "text": [
      "R[write to console]: Loading required package: tidyverse\n",
      "\n"
     ]
    },
    {
     "name": "stdout",
     "output_type": "stream",
     "text": [
      "── Attaching packages ─────────────────────────────────────── tidyverse 1.3.2 ──\n",
      "✔ ggplot2 3.4.1      ✔ purrr   0.3.5 \n",
      "✔ tibble  3.1.8      ✔ dplyr   1.0.10\n",
      "✔ tidyr   1.2.1      ✔ stringr 1.4.1 \n",
      "✔ readr   2.1.3      ✔ forcats 0.5.2 \n",
      "── Conflicts ────────────────────────────────────────── tidyverse_conflicts() ──\n",
      "✖ dplyr::filter() masks stats::filter()\n",
      "✖ dplyr::lag()    masks stats::lag()\n"
     ]
    }
   ],
   "source": [
    "%%R\n",
    "\n",
    "require('tidyverse')"
   ]
  },
  {
   "cell_type": "code",
   "execution_count": 10,
   "id": "7a9a4e76",
   "metadata": {},
   "outputs": [],
   "source": [
    "import numpy as np\n",
    "\n",
    "# Show a large number of rows and columns when displaying dfs\n",
    "pd.set_option(\"display.max_rows\", 200)\n",
    "pd.set_option(\"display.max_columns\", 200)\n",
    "from IPython.display import display, HTML"
   ]
  },
  {
   "cell_type": "code",
   "execution_count": 23,
   "id": "774468be",
   "metadata": {},
   "outputs": [
    {
     "name": "stdout",
     "output_type": "stream",
     "text": [
      "`geom_smooth()` using formula = 'y ~ x'\n"
     ]
    },
    {
     "data": {
      "image/png": "[encoded data removed]"
     },
     "metadata": {},
     "output_type": "display_data"
    }
   ],
   "source": [
    "%%R -i df\n",
    "\n",
    "ggplot(df) +\n",
    "    aes(x=AVG_rent, y=median_income_pc) +\n",
    "    geom_point(size=5, alpha=.5) +\n",
    "    theme_minimal() +\n",
    "    geom_smooth(method='lm')"
   ]
  },
  {
   "cell_type": "markdown",
   "id": "00efd087",
   "metadata": {},
   "source": [
    "Overall it's looking like we have some sort of positive coorelation here but definitely some outliers"
   ]
  },
  {
   "cell_type": "code",
   "execution_count": 25,
   "id": "209a1320",
   "metadata": {},
   "outputs": [
    {
     "name": "stdout",
     "output_type": "stream",
     "text": [
      "\n",
      "Call:\n",
      "lm(formula = AVG_rent ~ median_income_pc, data = df)\n",
      "\n",
      "Residuals:\n",
      "     Min       1Q   Median       3Q      Max \n",
      "-1739.28  -330.86    10.85   271.90  1340.45 \n",
      "\n",
      "Coefficients:\n",
      "                  Estimate Std. Error t value Pr(>|t|)    \n",
      "(Intercept)      1.670e+03  2.244e+02   7.442 2.21e-08 ***\n",
      "median_income_pc 1.440e-02  2.272e-03   6.335 4.74e-07 ***\n",
      "---\n",
      "Signif. codes:  0 ‘***’ 0.001 ‘**’ 0.01 ‘*’ 0.05 ‘.’ 0.1 ‘ ’ 1\n",
      "\n",
      "Residual standard error: 562.4 on 31 degrees of freedom\n",
      "Multiple R-squared:  0.5642,\tAdjusted R-squared:  0.5502 \n",
      "F-statistic: 40.14 on 1 and 31 DF,  p-value: 4.744e-07\n",
      "\n"
     ]
    }
   ],
   "source": [
    "%%R\n",
    "# load the dataset\n",
    "data(df)\n",
    "\n",
    "# run a simple linear regression of mpg (dependent variable) on wt (independent variable)\n",
    "fit <- lm(AVG_rent ~ median_income_pc, data = df)\n",
    "\n",
    "# summarize the regression results\n",
    "summary(fit)\n"
   ]
  },
  {
   "cell_type": "markdown",
   "id": "e2afce41",
   "metadata": {},
   "source": [
    "Looks like my P value here is really small -- this would mean we can reject the null hypothesis. It's due to chance!\n",
    "R Squared values are between 0 and 1 -- and mine is just above the halfway point. About half of the variation in x (median rent price) can be explained by y (median neighborhood income per capita)\n"
   ]
  },
  {
   "cell_type": "markdown",
   "id": "6b3d1b6e",
   "metadata": {},
   "source": [
    "## Great! Now what? "
   ]
  },
  {
   "cell_type": "markdown",
   "id": "14f573f5",
   "metadata": {},
   "source": [
    "It's great that we can see the statistical relationship between median rents and median income levels. However, some locations had higher rents with lower than expected income levels, so I'd definitely want to do some more digging. Do certain neighborhoods have more expensive high rise buildings? Impacts of gentrification in the past few years? I think it could be really beneficial to speak with housing/urban development experts and planners, real estate experts, and people that live in certain neighborhoods that seem to be outliers. "
   ]
  },
  {
   "cell_type": "code",
   "execution_count": null,
   "id": "474d5b94",
   "metadata": {},
   "outputs": [],
   "source": []
  }
 ],
 "metadata": {
  "kernelspec": {
   "display_name": "Python 3 (ipykernel)",
   "language": "python",
   "name": "python3"
  },
  "language_info": {
   "codemirror_mode": {
    "name": "ipython",
    "version": 3
   },
   "file_extension": ".py",
   "mimetype": "text/x-python",
   "name": "python",
   "nbconvert_exporter": "python",
   "pygments_lexer": "ipython3",
   "version": "3.11.0rc2"
  }
 },
 "nbformat": 4,
 "nbformat_minor": 5
}
